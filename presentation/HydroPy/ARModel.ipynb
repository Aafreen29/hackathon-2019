{
 "cells": [
  {
   "cell_type": "code",
   "execution_count": 45,
   "metadata": {
    "collapsed": true
   },
   "outputs": [],
   "source": [
    "import pandas as pd\n",
    "import os\n",
    "import matplotlib.pyplot as plt\n",
    "import numpy as np\n",
    "from scipy.stats import pearsonr\n",
    "import datetime\n",
    "import cv2\n",
    "import statsmodels\n",
    "from statsmodels.tsa.ar_model import AR"
   ]
  },
  {
   "cell_type": "code",
   "execution_count": 2,
   "metadata": {
    "collapsed": true
   },
   "outputs": [],
   "source": [
    "plot = plt.plot"
   ]
  },
  {
   "cell_type": "code",
   "execution_count": 241,
   "metadata": {
    "collapsed": true
   },
   "outputs": [],
   "source": [
    "popWtrData = pd.read_csv('county_pop_well.csv')\n",
    "\n",
    "cty = np.unique(popWtrData.COUNTY_NAME)\n",
    "\n",
    "MAX_MODEL_LENGTH = 20\n",
    "\n",
    "iCty = np.where(popWtrData.COUNTY_NAME == 'san diego')\n",
    "\n",
    "predErr_All = np.zeros((len(cty),MAX_MODEL_LENGTH))\n",
    "for iCty in range(len(cty)):#\n",
    "    \n",
    "    idxCty = popWtrData.COUNTY_NAME == cty[iCty]\n",
    "    \n",
    "    numEntries = np.sum(popWtrData.COUNTY_NAME==cty[iCty])\n",
    "    \n",
    "    if numEntries <= MAX_MODEL_LENGTH+5:\n",
    "        continue\n",
    "    \n",
    "    # Predict\n",
    "    for iML,mdlLen in enumerate(np.arange(1,MAX_MODEL_LENGTH)):\n",
    "        \n",
    "        #create train/test datasets\n",
    "        X = np.array(popWtrData.GSE_WSE[idxCty].dropna())\n",
    "        train_data = X[1:len(X)-MAX_MODEL_LENGTH]\n",
    "        test_data = np.array([X[len(X)-MAX_MODEL_LENGTH+mdlLen]])\n",
    "        #test_data = X[len(X)-mdlLen:]\n",
    "        tmpPop = np.array(popWtrData.sum_pop[idxCty])[len(X)-MAX_MODEL_LENGTH+mdlLen]\n",
    "        \n",
    "        #train the autoregression model\n",
    "        model = AR(train_data)\n",
    "        model_fitted = model.fit()\n",
    "        \n",
    "        if 0:\n",
    "            print('The lag value chose is: %s' % model_fitted.k_ar)\n",
    "            print('The coefficients of the model are:\\n %s' % model_fitted.params)\n",
    "\n",
    "\n",
    "        predictions = model_fitted.predict(\n",
    "            start=len(train_data), \n",
    "            end=len(train_data) + len(test_data)-1, \n",
    "            dynamic=False)\n",
    "\n",
    "        # Find the relative error\n",
    "        tmp = np.linalg.norm(predictions-test_data)/np.linalg.norm(test_data)*100\n",
    "        #tmp = test_data\n",
    "        #\n",
    "        predErr_All[iCty,iML] = tmp\n",
    "\n",
    "if 0:\n",
    "    plt.plot(predictions)\n",
    "    plt.plot(test_data)\n",
    "    plt.show()"
   ]
  },
  {
   "cell_type": "code",
   "execution_count": 253,
   "metadata": {
    "collapsed": true
   },
   "outputs": [],
   "source": [
    "x = pd.DataFrame(data=predErr_All,index=cty,columns=np.arange(2000,2020))"
   ]
  },
  {
   "cell_type": "code",
   "execution_count": 254,
   "metadata": {
    "collapsed": true
   },
   "outputs": [],
   "source": [
    "x.to_csv('normError.csv')"
   ]
  }
 ],
 "metadata": {
  "kernelspec": {
   "display_name": "Python 3",
   "language": "python",
   "name": "python3"
  },
  "language_info": {
   "codemirror_mode": {
    "name": "ipython",
    "version": 3
   },
   "file_extension": ".py",
   "mimetype": "text/x-python",
   "name": "python",
   "nbconvert_exporter": "python",
   "pygments_lexer": "ipython3",
   "version": "3.6.3"
  }
 },
 "nbformat": 4,
 "nbformat_minor": 2
}
